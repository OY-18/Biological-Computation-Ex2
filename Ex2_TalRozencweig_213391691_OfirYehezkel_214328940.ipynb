{
 "cells": [
  {
   "attachments": {},
   "cell_type": "markdown",
   "metadata": {},
   "source": [
    "# Biological Computation - Ex2"
   ]
  },
  {
   "attachments": {},
   "cell_type": "markdown",
   "metadata": {},
   "source": [
    "    Names: Tal Rozencweig (21339169) and Ofir Yehezkel (214328940) "
   ]
  },
  {
   "attachments": {},
   "cell_type": "markdown",
   "metadata": {},
   "source": [
    "## Part 1 "
   ]
  },
  {
   "attachments": {},
   "cell_type": "markdown",
   "metadata": {},
   "source": [
    "### a:\n",
    "    Write a program that gets asinput a positive integer n and generates all \n",
    "    connected sub-graphs of size n."
   ]
  },
  {
   "cell_type": "code",
   "execution_count": 3,
   "metadata": {},
   "outputs": [],
   "source": [
    "import itertools\n",
    "import time"
   ]
  },
  {
   "cell_type": "code",
   "execution_count": 4,
   "metadata": {},
   "outputs": [],
   "source": [
    "PRINT_ALL = False\n",
    "GRAPHS_TO_PRINT = 3\n",
    "assert GRAPHS_TO_PRINT > 0 or PRINT_ALL, \"GRAPHS_TO_PRINT needs to be positive when PRINT_ALL = False\" "
   ]
  },
  {
   "cell_type": "code",
   "execution_count": 5,
   "metadata": {},
   "outputs": [],
   "source": [
    "def find_all_graphs_n(n: int) -> dict:\n",
    "    \"\"\"\n",
    "    input: n -> number of vertices\n",
    "    output: \n",
    "    \"\"\"\n",
    "    total = {}\n",
    "    for i in range(1, n*(n-1) + 1):\n",
    "        g = itertools.combinations(itertools.permutations(range(n),2), i) # get all possible graphs with i edges\n",
    "        total[i] = list(g)\n",
    "        # total += list(g)\n",
    "    return total\n",
    "\n",
    "\n",
    "def is_connected(graph, n):\n",
    "    # Define a function that takes a graph as a list of tuples and returns True if it is connected or False otherwise\n",
    "    \n",
    "    # Check if the size of the graph is zero or one\n",
    "    if n == 0 or n == 1:\n",
    "        return True\n",
    "    \n",
    "    # Choose an arbitrary vertex as the starting point\n",
    "    start = graph[0][0]\n",
    "    \n",
    "    # Create a queue to store the vertices to visit and a set to store the visited vertices\n",
    "    queue = [start]\n",
    "    visited = set()\n",
    "    \n",
    "    # Loop until the queue is empty\n",
    "    while queue:\n",
    "        # Dequeue a vertex from the queue and mark it as visited\n",
    "        v = queue.pop(0)\n",
    "        visited.add(v)\n",
    "        \n",
    "        # Loop through the edges of the graph and enqueue the adjacent vertices that are not visited\n",
    "        for edge in graph:\n",
    "            if v in edge:\n",
    "                u = edge[0] if edge[1] == v else edge[1]\n",
    "                if u not in visited:\n",
    "                    queue.append(u)\n",
    "    \n",
    "    # Check if all the vertices are visited\n",
    "    return len(visited) == n\n",
    "\n",
    "\n",
    "def is_isomorphic(graph1: tuple, graph2: tuple, n: int) -> bool:\n",
    "    if(len(graph1) != len(graph2)): # check size compatibility\n",
    "        return False\n",
    "    return graph1 in get_permutaions(graph2, n)\n",
    "    \n",
    "\n",
    "def get_permutaions(graph: tuple, n: int) -> list:\n",
    "    total_permutations = []\n",
    "    for permutaion in itertools.permutations(range(n), n): # iterate through all permutations\n",
    "        new_graph = [] \n",
    "        for edge in graph: # permute graph per the given permutation\n",
    "            new_edge = [-1,-1]\n",
    "            for index, value in enumerate(edge): # permute edge\n",
    "                new_edge[index] = permutaion[value]\n",
    "            new_graph.append(tuple(new_edge))\n",
    "        total_permutations.append(tuple(new_graph))\n",
    "    return total_permutations\n",
    "\n",
    "\n",
    "def filter_graphs(graphs_dict: dict, n: int) -> list:\n",
    "    total = []\n",
    "    for graphs in graphs_dict.values():\n",
    "        connected_graphs = list(filter(lambda graph: is_connected(graph,n),graphs))\n",
    "        if(len(connected_graphs) == 1):\n",
    "            total.append(frozenset(connected_graphs[0]))\n",
    "        else:\n",
    "            isomorphic_groups = []\n",
    "            for graph in connected_graphs:\n",
    "                isomorphic_group = {frozenset(permut) for permut in get_permutaions(graph,n)}\n",
    "                if isomorphic_group not in isomorphic_groups:\n",
    "                    isomorphic_groups.append(isomorphic_group)\n",
    "            total += [g.pop() for g in isomorphic_groups if len(g) > 0]\n",
    "    return total\n",
    "\n",
    "\n",
    "def print_graphs(filtered_graphs: list, n: int):\n",
    "    print(f'n={n}')\n",
    "    print(f'count={len(filtered_graphs)}')\n",
    "    for i,graph in enumerate(filtered_graphs):\n",
    "        if not PRINT_ALL:\n",
    "            if i == GRAPHS_TO_PRINT - 1:\n",
    "                print(\".\\n.\\n.\")\n",
    "                continue\n",
    "            elif GRAPHS_TO_PRINT - 1 < i < len(filtered_graphs) - 1:\n",
    "                continue\n",
    "        print(f'#{i+1}')\n",
    "        for edge in list(graph):\n",
    "            print(f'{edge[0] + 1} {edge[1] + 1}')\n",
    "\n",
    "\n",
    "def find_filter_print(n: int):\n",
    "    starting_time = time.time()\n",
    "    graphs = find_all_graphs_n(n)\n",
    "    filtered_graphs = filter_graphs(graphs, n)\n",
    "    print_graphs(filtered_graphs, n)\n",
    "    print(\"Time to run:\", (time.time() - starting_time), \"seconds\")\n",
    "\n",
    "# # Get the input n from the user\n",
    "# n = int(input(\"Enter a positive integer n: \"))\n",
    "# find_filter_print(n)"
   ]
  },
  {
   "attachments": {},
   "cell_type": "markdown",
   "metadata": {},
   "source": [
    "### b:\n",
    "    Output the result of your program for n = 1 to 4."
   ]
  },
  {
   "cell_type": "code",
   "execution_count": 6,
   "metadata": {},
   "outputs": [
    {
     "name": "stdout",
     "output_type": "stream",
     "text": [
      "n=1\n",
      "count=0\n",
      "Time to run: 0.0 seconds\n"
     ]
    }
   ],
   "source": [
    "n = 1 \n",
    "find_filter_print(n)"
   ]
  },
  {
   "cell_type": "code",
   "execution_count": 7,
   "metadata": {},
   "outputs": [
    {
     "name": "stdout",
     "output_type": "stream",
     "text": [
      "n=2\n",
      "count=2\n",
      "#1\n",
      "1 2\n",
      "#2\n",
      "1 2\n",
      "2 1\n",
      "Time to run: 0.0 seconds\n"
     ]
    }
   ],
   "source": [
    "n = 2\n",
    "find_filter_print(n)"
   ]
  },
  {
   "cell_type": "code",
   "execution_count": 8,
   "metadata": {},
   "outputs": [
    {
     "name": "stdout",
     "output_type": "stream",
     "text": [
      "n=3\n",
      "count=13\n",
      "#1\n",
      "1 2\n",
      "1 3\n",
      "#2\n",
      "2 3\n",
      "3 1\n",
      ".\n",
      ".\n",
      ".\n",
      "#13\n",
      "1 2\n",
      "2 3\n",
      "3 2\n",
      "3 1\n",
      "1 3\n",
      "2 1\n",
      "Time to run: 0.0013840198516845703 seconds\n"
     ]
    }
   ],
   "source": [
    "n = 3\n",
    "find_filter_print(n)"
   ]
  },
  {
   "cell_type": "code",
   "execution_count": 9,
   "metadata": {},
   "outputs": [
    {
     "name": "stdout",
     "output_type": "stream",
     "text": [
      "n=4\n",
      "count=199\n",
      "#1\n",
      "4 2\n",
      "4 3\n",
      "4 1\n",
      "#2\n",
      "4 2\n",
      "2 3\n",
      "4 1\n",
      ".\n",
      ".\n",
      ".\n",
      "#199\n",
      "1 2\n",
      "2 3\n",
      "3 2\n",
      "4 2\n",
      "1 4\n",
      "3 1\n",
      "4 1\n",
      "3 4\n",
      "1 3\n",
      "2 1\n",
      "4 3\n",
      "2 4\n",
      "Time to run: 0.5342109203338623 seconds\n"
     ]
    }
   ],
   "source": [
    "n = 4\n",
    "find_filter_print(n)"
   ]
  },
  {
   "attachments": {},
   "cell_type": "markdown",
   "metadata": {},
   "source": [
    "### c:\n",
    "    What is the maximal number n for which the program can complete successfully\n",
    "    within no more than 1 hour of computing time?\n"
   ]
  },
  {
   "attachments": {},
   "cell_type": "markdown",
   "metadata": {},
   "source": [
    "We can see that the program completed the computation of n = 1 to 4 in less than 1 second."
   ]
  },
  {
   "attachments": {},
   "cell_type": "markdown",
   "metadata": {},
   "source": [
    "Let's check the time for the program to compute the output of n = 5:"
   ]
  },
  {
   "cell_type": "code",
   "execution_count": 10,
   "metadata": {},
   "outputs": [
    {
     "name": "stdout",
     "output_type": "stream",
     "text": [
      "n=5\n",
      "count=9364\n",
      "#1\n",
      "1 2\n",
      "1 3\n",
      "1 4\n",
      "1 5\n",
      "#2\n",
      "2 1\n",
      "5 2\n",
      "5 3\n",
      "5 4\n",
      ".\n",
      ".\n",
      ".\n",
      "#9364\n",
      "5 1\n",
      "4 5\n",
      "5 4\n",
      "4 2\n",
      "1 3\n",
      "2 1\n",
      "2 4\n",
      "5 3\n",
      "4 1\n",
      "1 2\n",
      "3 5\n",
      "2 3\n",
      "1 5\n",
      "3 2\n",
      "4 3\n",
      "5 2\n",
      "1 4\n",
      "3 1\n",
      "2 5\n",
      "3 4\n",
      "Time to run: 1325.531239748001 seconds\n"
     ]
    }
   ],
   "source": [
    "n = 5\n",
    "find_filter_print(n)"
   ]
  },
  {
   "attachments": {},
   "cell_type": "markdown",
   "metadata": {},
   "source": [
    "It took about 22 minutes "
   ]
  },
  {
   "attachments": {},
   "cell_type": "markdown",
   "metadata": {},
   "source": [
    "Now let's check the time for the program to compute the output of n = 6:"
   ]
  },
  {
   "cell_type": "code",
   "execution_count": 11,
   "metadata": {},
   "outputs": [
    {
     "ename": "MemoryError",
     "evalue": "",
     "output_type": "error",
     "traceback": [
      "\u001b[1;31m---------------------------------------------------------------------------\u001b[0m",
      "\u001b[1;31mMemoryError\u001b[0m                               Traceback (most recent call last)",
      "\u001b[1;32mc:\\Users\\אופיר\\OneDrive - Bar-Ilan University\\Desktop\\חומרי לימוד\\שנה ד\\סמסטר ב\\חישוב ביולוגי\\ש.ב\\HW2\\motifs.ipynb Cell 19\u001b[0m in \u001b[0;36m<cell line: 2>\u001b[1;34m()\u001b[0m\n\u001b[0;32m      <a href='vscode-notebook-cell:/c%3A/Users/%D7%90%D7%95%D7%A4%D7%99%D7%A8/OneDrive%20-%20Bar-Ilan%20University/Desktop/%D7%97%D7%95%D7%9E%D7%A8%D7%99%20%D7%9C%D7%99%D7%9E%D7%95%D7%93/%D7%A9%D7%A0%D7%94%20%D7%93/%D7%A1%D7%9E%D7%A1%D7%98%D7%A8%20%D7%91/%D7%97%D7%99%D7%A9%D7%95%D7%91%20%D7%91%D7%99%D7%95%D7%9C%D7%95%D7%92%D7%99/%D7%A9.%D7%91/HW2/motifs.ipynb#X24sZmlsZQ%3D%3D?line=0'>1</a>\u001b[0m n \u001b[39m=\u001b[39m \u001b[39m6\u001b[39m\n\u001b[1;32m----> <a href='vscode-notebook-cell:/c%3A/Users/%D7%90%D7%95%D7%A4%D7%99%D7%A8/OneDrive%20-%20Bar-Ilan%20University/Desktop/%D7%97%D7%95%D7%9E%D7%A8%D7%99%20%D7%9C%D7%99%D7%9E%D7%95%D7%93/%D7%A9%D7%A0%D7%94%20%D7%93/%D7%A1%D7%9E%D7%A1%D7%98%D7%A8%20%D7%91/%D7%97%D7%99%D7%A9%D7%95%D7%91%20%D7%91%D7%99%D7%95%D7%9C%D7%95%D7%92%D7%99/%D7%A9.%D7%91/HW2/motifs.ipynb#X24sZmlsZQ%3D%3D?line=1'>2</a>\u001b[0m find_filter_print(n)\n",
      "\u001b[1;32mc:\\Users\\אופיר\\OneDrive - Bar-Ilan University\\Desktop\\חומרי לימוד\\שנה ד\\סמסטר ב\\חישוב ביולוגי\\ש.ב\\HW2\\motifs.ipynb Cell 19\u001b[0m in \u001b[0;36mfind_filter_print\u001b[1;34m(n)\u001b[0m\n\u001b[0;32m    <a href='vscode-notebook-cell:/c%3A/Users/%D7%90%D7%95%D7%A4%D7%99%D7%A8/OneDrive%20-%20Bar-Ilan%20University/Desktop/%D7%97%D7%95%D7%9E%D7%A8%D7%99%20%D7%9C%D7%99%D7%9E%D7%95%D7%93/%D7%A9%D7%A0%D7%94%20%D7%93/%D7%A1%D7%9E%D7%A1%D7%98%D7%A8%20%D7%91/%D7%97%D7%99%D7%A9%D7%95%D7%91%20%D7%91%D7%99%D7%95%D7%9C%D7%95%D7%92%D7%99/%D7%A9.%D7%91/HW2/motifs.ipynb#X24sZmlsZQ%3D%3D?line=102'>103</a>\u001b[0m \u001b[39mdef\u001b[39;00m \u001b[39mfind_filter_print\u001b[39m(n: \u001b[39mint\u001b[39m):\n\u001b[0;32m    <a href='vscode-notebook-cell:/c%3A/Users/%D7%90%D7%95%D7%A4%D7%99%D7%A8/OneDrive%20-%20Bar-Ilan%20University/Desktop/%D7%97%D7%95%D7%9E%D7%A8%D7%99%20%D7%9C%D7%99%D7%9E%D7%95%D7%93/%D7%A9%D7%A0%D7%94%20%D7%93/%D7%A1%D7%9E%D7%A1%D7%98%D7%A8%20%D7%91/%D7%97%D7%99%D7%A9%D7%95%D7%91%20%D7%91%D7%99%D7%95%D7%9C%D7%95%D7%92%D7%99/%D7%A9.%D7%91/HW2/motifs.ipynb#X24sZmlsZQ%3D%3D?line=103'>104</a>\u001b[0m     starting_time \u001b[39m=\u001b[39m time\u001b[39m.\u001b[39mtime()\n\u001b[1;32m--> <a href='vscode-notebook-cell:/c%3A/Users/%D7%90%D7%95%D7%A4%D7%99%D7%A8/OneDrive%20-%20Bar-Ilan%20University/Desktop/%D7%97%D7%95%D7%9E%D7%A8%D7%99%20%D7%9C%D7%99%D7%9E%D7%95%D7%93/%D7%A9%D7%A0%D7%94%20%D7%93/%D7%A1%D7%9E%D7%A1%D7%98%D7%A8%20%D7%91/%D7%97%D7%99%D7%A9%D7%95%D7%91%20%D7%91%D7%99%D7%95%D7%9C%D7%95%D7%92%D7%99/%D7%A9.%D7%91/HW2/motifs.ipynb#X24sZmlsZQ%3D%3D?line=104'>105</a>\u001b[0m     graphs \u001b[39m=\u001b[39m find_all_graphs_n(n)\n\u001b[0;32m    <a href='vscode-notebook-cell:/c%3A/Users/%D7%90%D7%95%D7%A4%D7%99%D7%A8/OneDrive%20-%20Bar-Ilan%20University/Desktop/%D7%97%D7%95%D7%9E%D7%A8%D7%99%20%D7%9C%D7%99%D7%9E%D7%95%D7%93/%D7%A9%D7%A0%D7%94%20%D7%93/%D7%A1%D7%9E%D7%A1%D7%98%D7%A8%20%D7%91/%D7%97%D7%99%D7%A9%D7%95%D7%91%20%D7%91%D7%99%D7%95%D7%9C%D7%95%D7%92%D7%99/%D7%A9.%D7%91/HW2/motifs.ipynb#X24sZmlsZQ%3D%3D?line=105'>106</a>\u001b[0m     filtered_graphs \u001b[39m=\u001b[39m filter_graphs(graphs, n)\n\u001b[0;32m    <a href='vscode-notebook-cell:/c%3A/Users/%D7%90%D7%95%D7%A4%D7%99%D7%A8/OneDrive%20-%20Bar-Ilan%20University/Desktop/%D7%97%D7%95%D7%9E%D7%A8%D7%99%20%D7%9C%D7%99%D7%9E%D7%95%D7%93/%D7%A9%D7%A0%D7%94%20%D7%93/%D7%A1%D7%9E%D7%A1%D7%98%D7%A8%20%D7%91/%D7%97%D7%99%D7%A9%D7%95%D7%91%20%D7%91%D7%99%D7%95%D7%9C%D7%95%D7%92%D7%99/%D7%A9.%D7%91/HW2/motifs.ipynb#X24sZmlsZQ%3D%3D?line=106'>107</a>\u001b[0m     print_graphs(filtered_graphs, n)\n",
      "\u001b[1;32mc:\\Users\\אופיר\\OneDrive - Bar-Ilan University\\Desktop\\חומרי לימוד\\שנה ד\\סמסטר ב\\חישוב ביולוגי\\ש.ב\\HW2\\motifs.ipynb Cell 19\u001b[0m in \u001b[0;36mfind_all_graphs_n\u001b[1;34m(n)\u001b[0m\n\u001b[0;32m      <a href='vscode-notebook-cell:/c%3A/Users/%D7%90%D7%95%D7%A4%D7%99%D7%A8/OneDrive%20-%20Bar-Ilan%20University/Desktop/%D7%97%D7%95%D7%9E%D7%A8%D7%99%20%D7%9C%D7%99%D7%9E%D7%95%D7%93/%D7%A9%D7%A0%D7%94%20%D7%93/%D7%A1%D7%9E%D7%A1%D7%98%D7%A8%20%D7%91/%D7%97%D7%99%D7%A9%D7%95%D7%91%20%D7%91%D7%99%D7%95%D7%9C%D7%95%D7%92%D7%99/%D7%A9.%D7%91/HW2/motifs.ipynb#X24sZmlsZQ%3D%3D?line=6'>7</a>\u001b[0m \u001b[39mfor\u001b[39;00m i \u001b[39min\u001b[39;00m \u001b[39mrange\u001b[39m(\u001b[39m1\u001b[39m, n\u001b[39m*\u001b[39m(n\u001b[39m-\u001b[39m\u001b[39m1\u001b[39m) \u001b[39m+\u001b[39m \u001b[39m1\u001b[39m):\n\u001b[0;32m      <a href='vscode-notebook-cell:/c%3A/Users/%D7%90%D7%95%D7%A4%D7%99%D7%A8/OneDrive%20-%20Bar-Ilan%20University/Desktop/%D7%97%D7%95%D7%9E%D7%A8%D7%99%20%D7%9C%D7%99%D7%9E%D7%95%D7%93/%D7%A9%D7%A0%D7%94%20%D7%93/%D7%A1%D7%9E%D7%A1%D7%98%D7%A8%20%D7%91/%D7%97%D7%99%D7%A9%D7%95%D7%91%20%D7%91%D7%99%D7%95%D7%9C%D7%95%D7%92%D7%99/%D7%A9.%D7%91/HW2/motifs.ipynb#X24sZmlsZQ%3D%3D?line=7'>8</a>\u001b[0m     g \u001b[39m=\u001b[39m itertools\u001b[39m.\u001b[39mcombinations(itertools\u001b[39m.\u001b[39mpermutations(\u001b[39mrange\u001b[39m(n),\u001b[39m2\u001b[39m), i) \u001b[39m# get all possible graphs with i edges\u001b[39;00m\n\u001b[1;32m----> <a href='vscode-notebook-cell:/c%3A/Users/%D7%90%D7%95%D7%A4%D7%99%D7%A8/OneDrive%20-%20Bar-Ilan%20University/Desktop/%D7%97%D7%95%D7%9E%D7%A8%D7%99%20%D7%9C%D7%99%D7%9E%D7%95%D7%93/%D7%A9%D7%A0%D7%94%20%D7%93/%D7%A1%D7%9E%D7%A1%D7%98%D7%A8%20%D7%91/%D7%97%D7%99%D7%A9%D7%95%D7%91%20%D7%91%D7%99%D7%95%D7%9C%D7%95%D7%92%D7%99/%D7%A9.%D7%91/HW2/motifs.ipynb#X24sZmlsZQ%3D%3D?line=8'>9</a>\u001b[0m     total[i] \u001b[39m=\u001b[39m \u001b[39mlist\u001b[39;49m(g)\n\u001b[0;32m     <a href='vscode-notebook-cell:/c%3A/Users/%D7%90%D7%95%D7%A4%D7%99%D7%A8/OneDrive%20-%20Bar-Ilan%20University/Desktop/%D7%97%D7%95%D7%9E%D7%A8%D7%99%20%D7%9C%D7%99%D7%9E%D7%95%D7%93/%D7%A9%D7%A0%D7%94%20%D7%93/%D7%A1%D7%9E%D7%A1%D7%98%D7%A8%20%D7%91/%D7%97%D7%99%D7%A9%D7%95%D7%91%20%D7%91%D7%99%D7%95%D7%9C%D7%95%D7%92%D7%99/%D7%A9.%D7%91/HW2/motifs.ipynb#X24sZmlsZQ%3D%3D?line=9'>10</a>\u001b[0m     \u001b[39m# total += list(g)\u001b[39;00m\n\u001b[0;32m     <a href='vscode-notebook-cell:/c%3A/Users/%D7%90%D7%95%D7%A4%D7%99%D7%A8/OneDrive%20-%20Bar-Ilan%20University/Desktop/%D7%97%D7%95%D7%9E%D7%A8%D7%99%20%D7%9C%D7%99%D7%9E%D7%95%D7%93/%D7%A9%D7%A0%D7%94%20%D7%93/%D7%A1%D7%9E%D7%A1%D7%98%D7%A8%20%D7%91/%D7%97%D7%99%D7%A9%D7%95%D7%91%20%D7%91%D7%99%D7%95%D7%9C%D7%95%D7%92%D7%99/%D7%A9.%D7%91/HW2/motifs.ipynb#X24sZmlsZQ%3D%3D?line=10'>11</a>\u001b[0m \u001b[39mreturn\u001b[39;00m total\n",
      "\u001b[1;31mMemoryError\u001b[0m: "
     ]
    }
   ],
   "source": [
    "n = 6\n",
    "find_filter_print(n)"
   ]
  },
  {
   "attachments": {},
   "cell_type": "markdown",
   "metadata": {},
   "source": [
    "We can see that it takes more than 8 hours."
   ]
  },
  {
   "attachments": {},
   "cell_type": "markdown",
   "metadata": {},
   "source": [
    "So, in 1 hour the maximal value of n that the program can compute is 5."
   ]
  },
  {
   "attachments": {},
   "cell_type": "markdown",
   "metadata": {},
   "source": [
    "### d:\n",
    "    What is the maximal number n for which the program can complete successfully\n",
    "    within 2,4,8 hours of computing time?"
   ]
  },
  {
   "attachments": {},
   "cell_type": "markdown",
   "metadata": {},
   "source": [
    "As we saw in section c, he maximal value of n that the program can compute within 2,4,8 hours is 5."
   ]
  },
  {
   "attachments": {},
   "cell_type": "markdown",
   "metadata": {},
   "source": [
    "## Part 2"
   ]
  },
  {
   "attachments": {},
   "cell_type": "markdown",
   "metadata": {},
   "source": [
    "    Write a program that gets as input positive integer n and a graph of theformat:\n",
    "    1 2\n",
    "    2 3\n",
    "    1 4\n",
    "    The graph in the example contains 4 vertices 1,2,3,4 and directed edges (1,2) \n",
    "    (2,3) (1,4). The program should output all sub-graphs of size n and count how \n",
    "    many instances appear of each motif. The format of the outputof the identified \n",
    "    sub-graphs should be like in question 1, where in the line after #k should appear \n",
    "    the count of number of instances, count=m if the motif appears m times. Output \n",
    "    count=0 if a motif does not appear in the graph."
   ]
  },
  {
   "cell_type": "code",
   "execution_count": 33,
   "metadata": {},
   "outputs": [],
   "source": [
    "def get_graph() -> tuple:\n",
    "    n = 0\n",
    "    while n < 1:\n",
    "        n = int(input(\"n = \"))\n",
    "    \n",
    "    graph = []\n",
    "    input_ = [int(x) - 1 for x in input(\"Enter an edge: \").split()]\n",
    "    while input_:\n",
    "        if len(input_) > 1:\n",
    "            edge = (input_[0], input_[1])\n",
    "            if edge not in graph:\n",
    "                graph.append(edge)\n",
    "        input_ = [int(x) - 1 for x in input(\"Enter an edge: \").split()]\n",
    "    \n",
    "    return frozenset(graph), n\n",
    "\n",
    "\n",
    "def count_motifs(input_graph: frozenset, motifs: list, n: int) -> list:\n",
    "    total = []\n",
    "    \n",
    "    for motif in motifs:\n",
    "        count = 0\n",
    "        for permutation in get_permutaions(tuple(motif), n):\n",
    "            if frozenset(permutation).issubset(input_graph):\n",
    "                count += 1\n",
    "            if input_graph == frozenset(permutation):\n",
    "                count = 1\n",
    "                break\n",
    "        total.append((motif,count))\n",
    "    \n",
    "    return total\n",
    "\n",
    "\n",
    "def print_graphs_2(filtered_graphs: list, input_graph: frozenset, n: int):\n",
    "    print(f'graph: ')\n",
    "    for edge in list(input_graph):\n",
    "            print(f'{edge[0] + 1} {edge[1] + 1}')\n",
    "            \n",
    "    print(f'\\n{n=}')\n",
    "    print(f'count={len(filtered_graphs)}')\n",
    "    print('_________\\n')\n",
    "\n",
    "    filtered_graphs.sort(key=lambda x: x[1],reverse=True)\n",
    "    for i,(graph,count) in enumerate(filtered_graphs):\n",
    "        print(f'#{i+1}')\n",
    "        print(f'{count=}')\n",
    "        for edge in list(graph):\n",
    "            print(f'{edge[0] + 1} {edge[1] + 1}')\n",
    "        print()"
   ]
  },
  {
   "cell_type": "code",
   "execution_count": 34,
   "metadata": {},
   "outputs": [
    {
     "name": "stdout",
     "output_type": "stream",
     "text": [
      "graph: \n",
      "1 2\n",
      "2 1\n",
      "\n",
      "n=2\n",
      "count=2\n",
      "_________\n",
      "\n",
      "#1\n",
      "count=2\n",
      "1 2\n",
      "\n",
      "#2\n",
      "count=1\n",
      "1 2\n",
      "2 1\n",
      "\n"
     ]
    }
   ],
   "source": [
    "graph, n = get_graph()\n",
    "total = count_motifs(graph, filter_graphs(find_all_graphs_n(n), n) ,n)\n",
    "print_graphs_2(total, graph, n)"
   ]
  }
 ],
 "metadata": {
  "kernelspec": {
   "display_name": "Python 3",
   "language": "python",
   "name": "python3"
  },
  "language_info": {
   "codemirror_mode": {
    "name": "ipython",
    "version": 3
   },
   "file_extension": ".py",
   "mimetype": "text/x-python",
   "name": "python",
   "nbconvert_exporter": "python",
   "pygments_lexer": "ipython3",
   "version": "3.10.0"
  },
  "orig_nbformat": 4
 },
 "nbformat": 4,
 "nbformat_minor": 2
}
